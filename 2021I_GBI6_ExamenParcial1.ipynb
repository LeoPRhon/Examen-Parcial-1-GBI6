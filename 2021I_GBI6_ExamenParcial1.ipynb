{
 "cells": [
  {
   "cell_type": "markdown",
   "metadata": {},
   "source": [
    "<img src=\"https://www.ikiam.edu.ec/img/logo-ikiam-grey.png\" width=300 height=240 />\n",
    "\n",
    "# EXAMEN PARCIAL 1\n",
    "\n",
    "## GBI6-2021II: BIOINFORMÁTICA\n",
    "\n",
    "**Proaño Rhon, Leonardo Francisco**\n",
    "\n",
    "**15-01-2021**"
   ]
  },
  {
   "cell_type": "markdown",
   "metadata": {},
   "source": [
    "# 1. UNIX\n",
    "\n",
    "## Ejercicio 1\n",
    "Para esta pregunta debe realizar previamente lo siguiente: \n",
    "\n",
    "1. Imprimir el directorio de trabajo actual \n",
    "\n",
    "2. Crear un directorio test1\n",
    "\n",
    "3. No cambie de directorio, pero los items 4, 5 y 6 deben guardarse en el directorio creado en el paso 2. \n",
    "\n",
    "4. Crear el archivo test1.txt\n",
    "\n",
    "5. Guardar el texto Hola GBI6 en un archivo test2.txt\n",
    "\n",
    "6. Guardar la instrucción print(\"Hola GBI6\")  en el archivo test1.py\n",
    "\n",
    "Luego seleccione la instrucción que copie test2.txt al directorio test2/subtest1 y después borre el directorio test1.\n",
    "\n",
    "<img src=\"data/Ejercicios 1-3/Ejercicio 1 Unix.png\" width=600 height=600 />\n",
    "\n",
    "## Ejercicio 2\n",
    "Para esta pregunta debe realizar previamente lo siguiente: \n",
    "\n",
    "1. Imprimir el directorio de trabajo actual \n",
    "\n",
    "2. Crear un directorio test1\n",
    "\n",
    "3. No cambie de directorio, pero los items 4, 5 y 6 deben guardarse en el directorio creado en el paso 2. \n",
    "\n",
    "4. Crear el archivo test1.txt\n",
    "\n",
    "5. Guardar el texto Hola GBI6 en un archivo test2.txt\n",
    "\n",
    "6. Guardar la instrucción print(\"Hola GBI6\")  en el archivo test1.py\n",
    "\n",
    "Luego seleccione la instrucción que agregue el texto El examen parcial de GBI6 es hoy al archivo test2.txt sin reemplazar y imprima el contenido en la consola.\n",
    "\n",
    "<img src=\"data/Ejercicios 1-3/Ejercicio 2 Unix.png\" width=600 height=600 />\n",
    "\n",
    "## Ejercicio 3\n",
    "Seleccione la opción el código que imprime el texto: Hola GBI6\n",
    "\n",
    "<img src=\"data/Ejercicios 1-3/Ejercicio 3.jpg\" width=400 height=400 />\n",
    "\n",
    "## Ejercicio 4\n",
    "Resuelva el ejercicio 1.10.3 Plant–Pollinator Networks. \n",
    "\n",
    "· Resuelva el ejercicio en un documento de nombre ejercicio_1103.sh\n",
    "\n",
    "· Cargue el documento ejercicio_1103.sh en GitHub utilizando git push. \n",
    "\n",
    "· Realice el video explicativo de la resolución ejercicio y guarde en YouTube en formato \"Público\" o \"Unlisted\", y pegue el enlace en el cuaderno de Jupyter."
   ]
  },
  {
   "cell_type": "code",
   "execution_count": 7,
   "metadata": {},
   "outputs": [
    {
     "data": {
      "text/html": [
       "<iframe width=\"560\" height=\"315\" src=\"https://www.youtube.com/embed/9ck5iEP03g4\" title=\"YouTube video player\" frameborder=\"0\" allow=\"accelerometer; autoplay; clipboard-write; encrypted-media; gyroscope; picture-in-picture\" allowfullscreen></iframe>"
      ],
      "text/plain": [
       "<IPython.core.display.HTML object>"
      ]
     },
     "execution_count": 7,
     "metadata": {},
     "output_type": "execute_result"
    }
   ],
   "source": [
    "# Coloque aquí su video del ejercicio 4\n",
    "from IPython.display import HTML\n",
    "HTML('<iframe width=\"560\" height=\"315\" src=\"https://www.youtube.com/embed/9ck5iEP03g4\" title=\"YouTube video player\" frameborder=\"0\" allow=\"accelerometer; autoplay; clipboard-write; encrypted-media; gyroscope; picture-in-picture\" allowfullscreen></iframe>')\n"
   ]
  },
  {
   "cell_type": "markdown",
   "metadata": {},
   "source": [
    "## Ejercicio 5\n",
    "Resuelva el ejercicio 1.10.4 Data Explorer. \n",
    "\n",
    "· Resuelva el ejercicio en un documento de nombre ejercicio_1104.sh\n",
    "\n",
    "· Cargue el documento ejercicio_1104.sh en GitHub utilizando git push. \n",
    "\n",
    "· Realice el video explicativo de la resolución ejercicio y guarde en YouTube en formato \"Público\" o \"Unlisted\", y pegue el enlace en el cuaderno de Jupyter."
   ]
  },
  {
   "cell_type": "code",
   "execution_count": 5,
   "metadata": {},
   "outputs": [
    {
     "data": {
      "text/html": [
       "<iframe width=\"560\" height=\"315\" src=\"https://www.youtube.com/embed/3XlZWpLwvvo\" title=\"YouTube video player\" frameborder=\"0\" allow=\"accelerometer; autoplay; clipboard-write; encrypted-media; gyroscope; picture-in-picture\" allowfullscreen></iframe>"
      ],
      "text/plain": [
       "<IPython.core.display.HTML object>"
      ]
     },
     "execution_count": 5,
     "metadata": {},
     "output_type": "execute_result"
    }
   ],
   "source": [
    "# Coloque aquí su video del ejercicio 5\n",
    "from IPython.display import HTML\n",
    "HTML('<iframe width=\"560\" height=\"315\" src=\"https://www.youtube.com/embed/3XlZWpLwvvo\" title=\"YouTube video player\" frameborder=\"0\" allow=\"accelerometer; autoplay; clipboard-write; encrypted-media; gyroscope; picture-in-picture\" allowfullscreen></iframe>')\n"
   ]
  },
  {
   "cell_type": "markdown",
   "metadata": {
    "jp-MarkdownHeadingCollapsed": true,
    "tags": []
   },
   "source": [
    "# 2. CONTROL DE LA VERSIÓN\n",
    "## Pregunta 6\n",
    "1. Cree en GitHub un repositorio de nombre ```GBI6_ExamenParcial1```. \n",
    "2. Cree un archivo ```Readme.md``` que debe tener lo siguiente: \n",
    "- Datos personales\n",
    "- Características del computador\n",
    "- Programas utilizados\n",
    "- Explicación de la data utilizada\n",
    "\n",
    "\n",
    "## Pregunta 7\n",
    "1. Cada vez que resuelva un ejercicio (del 1 al 10), utilizando Git Bash, GitHub Desktop o Atom realice un *git push* con el mensaje: \n",
    "\n",
    "\n",
    "<font color='red'>Apellido Nombre ha resuelto el ejercicio 1</font> % Cambie con sus apellidos y nombres; y con el número de ejercicio que corresponda \n",
    "\n",
    "2. Coloque aquí las capturas de pantalla para cada git push realizado desde Git Bash, GitHub Desktop o Atom. \n",
    "\n",
    "- Control de versión ejercicio 1\n",
    "\n",
    "<img src=\"data/Ejercicios 1-10/Ejercicio 1 Unix.png\" width=600 height=600 />\n",
    "\n",
    "- Control de versión ejercicio 2\n",
    "\n",
    "<img src=\"data/Ejercicios 1-10/Ejercicio 2 Unix.png\" width=600 height=600 />\n",
    "\n",
    "- Control de versión ejercicio 3\n",
    "\n",
    "<img src=\"data/Ejercicios 1-10/Ejercicio 3.jpg\" width=600 height=450 />\n",
    "\n",
    "- Control de versión ejercicio 4\n",
    "\n",
    "<img src=\"data/Ejercicios 1-10/Ejercicio 4.jpg\" width=600 height=450 />\n",
    "\n",
    "- Control de versión ejercicio 5\n",
    "\n",
    "<img src=\"data/Ejercicios 1-10/Ejercicio 6.jpg\" width=500 height=400 />\n",
    "\n",
    "- Control de versión ejercicio 8\n",
    "\n",
    "<img src=\"data/ejemplo_unix.jpg\" width=600 height=450 />\n",
    "\n",
    "- Control de versión ejercicio 9\n",
    "\n",
    "<img src=\"data/ejemplo_unix.jpg\" width=600 height=450 />\n",
    "\n",
    "- Control de versión ejercicio 10\n",
    "\n",
    "<img src=\"data/ejemplo_unix.jpg\" width=600 height=450 />\n",
    "\n",
    "\n",
    "3. Cree un directorio de nombre ```data``` donde deben estar guardados: (i) la data utilizada y (ii) las capturas de pantalla de los ejercicios 1 al 3 y los git push del ejercicio 1 al 10 (en total debe tener 13 imágenes). \n",
    "4. Inserte aquí el enlace de su repositorio (válido para el ejercicio 6 y 7): [GitHub Repository: GBI6_ExamenParcial1 Leonardo Proaño](https://github.com/LeoPRhon/Examen-Parcial-1-GBI6)"
   ]
  },
  {
   "cell_type": "markdown",
   "metadata": {},
   "source": [
    "# 3. INTRODUCCIÓN A PYTHON\n",
    "\n",
    "## Ejercicio 8\n",
    "\n",
    "Para este ejercicio tiene que crear previamente lo siguiente: \n",
    "\n",
    "Una lista de nombre lista1 que tenga a las 10 primeras letras del alfabeto.\n",
    "\n",
    "Relaciones los códigos y las respuestas que salen al ejecutar. "
   ]
  },
  {
   "cell_type": "code",
   "execution_count": null,
   "metadata": {},
   "outputs": [],
   "source": [
    "import numpy as np\n",
    "import pandas as pd\n",
    "#pregunta 6\n",
    "\n",
    "db = pd.read_csv('data/Libro1.csv', na_values='Not Provided')\n",
    "db = db.iloc[0:10]\n",
    "db\n",
    "#archivo csv tranformado a dataframe y seleccionando los primero 10 valores \n",
    "\n",
    "lista1 =list(db['Alfabeto'])\n",
    "lista1\n",
    "\n",
    "lista1.append([\"gbi6\", \"bio1\", \"ikiam\"])\n",
    "\n",
    "len(lista1)\n",
    "\n",
    "lista1[2:5]\n",
    "\n",
    "lista1.append([\"gbi6\", \"bio1\", \"ikiam\"])\n",
    "\n",
    "lista1[-1][-1]\n",
    "\n"
   ]
  },
  {
   "cell_type": "markdown",
   "metadata": {},
   "source": [
    "## Ejercicio 9\n",
    "\n",
    "Para este ejercicio tiene que crear previamente lo siguiente: \n",
    "\n",
    "Descargue la data \"SI Table 1\" (10080Table1.xls) de la página https://www.pnas.org/content/suppl/2006/12/27/0610080104.DC1. Esta data corresponde a algunas características de sueño de mamíferos. Seleccione los 10 primeros registros de la columna \"Total sleep time, hr\" y cree una lista de nombre lista1.\n",
    "\n",
    "Relaciones los códigos y las respuestas que salen al ejecutar. "
   ]
  },
  {
   "cell_type": "code",
   "execution_count": null,
   "metadata": {},
   "outputs": [],
   "source": [
    "import numpy as np\n",
    "import pandas as pd\n",
    "#pregunta 7\n",
    "\n",
    "db = pd.read_excel('data/10080Table1.xls')\n",
    "new_header = db.iloc[0] #toma la primera fila para la cabecera\n",
    "db = db[1:]             #toma los datos menos la fila de la cabecera \n",
    "db.columns = new_header #poner la fila de cabecera como cabecera de df\n",
    "db = db.iloc[0:10]\n",
    "db\n",
    "\n",
    "#y cree una lista de nombre lista 1 \n",
    "lista1 = list(db['Total sleep time, hr'])\n",
    "lista1\n",
    "\n",
    "sum(lista1)/len(lista1)\n",
    "#13.079\n",
    "\n",
    "round(sum(lista1)/len(lista1),3)\n",
    "#13.08\n",
    "\n",
    "lista1[5]\n",
    "#10.1\n",
    "\n",
    "lista1[8:]\n",
    "#[14.9,9.1]\n",
    "\n",
    "lista1.extend([\"gbi6\",\"bio1\",\"ikiam\"])\n",
    "\n",
    "len(lista1)\n",
    "#13\n",
    "\n",
    "lista1.append([\"gbi6\",\"bio1\",\"ikiam\"])\n",
    "#no retorna nada \n",
    "\n",
    "lista1[-1][2]\n",
    "#ikiam"
   ]
  },
  {
   "cell_type": "markdown",
   "metadata": {},
   "source": [
    "## Ejercicio 10\n",
    "\n",
    "Para este ejercicio debe debe realizar lo siguiente:\n",
    "\n",
    "1. Crear un diccionario de nombre dic_aminoacidos, donde se tenga la información de la tabla que se encuentra en http://www.russelllab.org/aas/aas.html. \n",
    "2. Utilice como \"key\" los valores de la columna \"AA\" y las columnas \"Hits\" y \"%Abundance\" como \"values\". \n",
    "3. Luego de crear el diccionario, extraiga los valores de \"key\" a una lista de nombre \"aminoacidos\"\n",
    "4. Extraiga los valores de \"value\" a una lista de nombre \"propiedades\""
   ]
  },
  {
   "cell_type": "code",
   "execution_count": null,
   "metadata": {},
   "outputs": [],
   "source": [
    "import numpy as np\n",
    "import pandas as pd\n",
    "#pregunta 8\n",
    "\n",
    "#Crea un diccionario de nombre dic_aminoacidos donde se tenga la informacion de la tabla que se encuentra en\n",
    "#http://www.russelllab.org/aas/aas.html\n",
    "\n",
    "#Utilice como \"key\" los valores de la columna \"AA\" y las otras dos columnas (Hits y %Abundance) ingrese como \"values\"\n",
    "\n",
    "dic_aminoacidos = {'Trp':                                   {0: '1550',\n",
    "                                                             1: '1.34'}, \n",
    " 'Cys':                                                     {0: '1905',\n",
    "                                                             1: '1.76'},\n",
    " 'His':                                                     {0: '1695',\n",
    "                                                             1: '2.26'},\n",
    " 'Arg':                                                     {0: '3093',\n",
    "                                                             1: '5.20'},\n",
    " 'Met':                                                     {0: '1102',\n",
    "                                                             1: '2.32'},\n",
    " 'Tyr':                                                     {0: '1525',\n",
    "                                                             1: '3.25'},\n",
    " 'Gln':                                                     {0: '1830',\n",
    "                                                             1: '3.96'},\n",
    " 'Phe':                                                     {0: '1616',\n",
    "                                                             1: '4.12'},\n",
    " 'Asp':                                                     {0: '1691',\n",
    "                                                             1: '5.12'},\n",
    " 'Pro':                                                     {0: '1598',\n",
    "                                                             1: '5.00'},\n",
    " 'Ala':                                                     {0: '2018',\n",
    "                                                             1: '7.34'},\n",
    " 'Asn':                                                     {0:'1103',\n",
    "                                                             1: '4.57'},\n",
    " 'Lys':                                                     {0:'1366',\n",
    "                                                             1:'5.81'},\n",
    " 'Glu':                                                     {0:'1471',\n",
    "                                                             1:'6.22'},\n",
    " 'Gly':                                                     {0:'1386',\n",
    "                                                             1:'6.89'},\n",
    " 'Thr':                                                     {0:'1147',\n",
    "                                                             1:'5.85'},\n",
    " 'Val':                                                     {0:'1225',\n",
    "                                                             1:'6.48'},\n",
    " 'Ile':                                                     {0:'1033',\n",
    "                                                             1:'5.76'},\n",
    " 'Ser':                                                     {0:'1206',\n",
    "                                                             1:'7.38'},\n",
    " 'Leu':                                                     {0:'1127',\n",
    "                                                             1:'9.36'}}\n",
    "\n",
    "\n",
    "dic_aminoacidos\n",
    "\n",
    "#Luego de crear el diccionario extraiga los valores de \"key\" a una lista de nombre \"aminoacidos\"\n",
    "aminoacidos = list(dic_aminoacidos.keys())\n",
    "aminoacidos\n",
    "\n",
    "#extraiga los valores de \"value\" a una lista de nombre \"propiedades\"\n",
    "propiedades = list(dic_aminoacidos.values())\n",
    "propiedades\n",
    "\n"
   ]
  }
 ],
 "metadata": {
  "kernelspec": {
   "display_name": "Python 3 (ipykernel)",
   "language": "python",
   "name": "python3"
  },
  "language_info": {
   "codemirror_mode": {
    "name": "ipython",
    "version": 3
   },
   "file_extension": ".py",
   "mimetype": "text/x-python",
   "name": "python",
   "nbconvert_exporter": "python",
   "pygments_lexer": "ipython3",
   "version": "3.9.7"
  },
  "latex_envs": {
   "LaTeX_envs_menu_present": true,
   "autoclose": false,
   "autocomplete": true,
   "bibliofile": "biblio.bib",
   "cite_by": "apalike",
   "current_citInitial": 1,
   "eqLabelWithNumbers": true,
   "eqNumInitial": 1,
   "hotkeys": {
    "equation": "Ctrl-E",
    "itemize": "Ctrl-I"
   },
   "labels_anchors": false,
   "latex_user_defs": false,
   "report_style_numbering": false,
   "user_envs_cfg": false
  },
  "toc": {
   "base_numbering": 1,
   "nav_menu": {},
   "number_sections": true,
   "sideBar": false,
   "skip_h1_title": false,
   "title_cell": "Table of Contents",
   "title_sidebar": "Contents",
   "toc_cell": false,
   "toc_position": {
    "height": "1152.67px",
    "left": "41px",
    "top": "110px",
    "width": "253.458px"
   },
   "toc_section_display": true,
   "toc_window_display": false
  },
  "varInspector": {
   "cols": {
    "lenName": 16,
    "lenType": 16,
    "lenVar": 40
   },
   "kernels_config": {
    "python": {
     "delete_cmd_postfix": "",
     "delete_cmd_prefix": "del ",
     "library": "var_list.py",
     "varRefreshCmd": "print(var_dic_list())"
    },
    "r": {
     "delete_cmd_postfix": ") ",
     "delete_cmd_prefix": "rm(",
     "library": "var_list.r",
     "varRefreshCmd": "cat(var_dic_list()) "
    }
   },
   "types_to_exclude": [
    "module",
    "function",
    "builtin_function_or_method",
    "instance",
    "_Feature"
   ],
   "window_display": false
  }
 },
 "nbformat": 4,
 "nbformat_minor": 4
}
