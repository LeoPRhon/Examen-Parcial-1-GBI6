{
 "cells": [
  {
   "cell_type": "code",
   "execution_count": 1,
   "metadata": {},
   "outputs": [
    {
     "ename": "ModuleNotFoundError",
     "evalue": "No module named 'numpy'",
     "output_type": "error",
     "traceback": [
      "\u001b[1;31m---------------------------------------------------------------------------\u001b[0m",
      "\u001b[1;31mModuleNotFoundError\u001b[0m                       Traceback (most recent call last)",
      "Input \u001b[1;32mIn [1]\u001b[0m, in \u001b[0;36m<module>\u001b[1;34m\u001b[0m\n\u001b[1;32m----> 1\u001b[0m \u001b[38;5;28;01mimport\u001b[39;00m \u001b[38;5;21;01mnumpy\u001b[39;00m \u001b[38;5;28;01mas\u001b[39;00m \u001b[38;5;21;01mnp\u001b[39;00m\n\u001b[0;32m      2\u001b[0m \u001b[38;5;28;01mimport\u001b[39;00m \u001b[38;5;21;01mpandas\u001b[39;00m \u001b[38;5;28;01mas\u001b[39;00m \u001b[38;5;21;01mpd\u001b[39;00m\n",
      "\u001b[1;31mModuleNotFoundError\u001b[0m: No module named 'numpy'"
     ]
    }
   ],
   "source": [
    "import numpy as np\n",
    "import pandas as pd\n",
    "#pregunta 8"
   ]
  },
  {
   "cell_type": "code",
   "execution_count": 2,
   "metadata": {},
   "outputs": [],
   "source": [
    "#Crea un diccionario de nombre dic_aminoacidos donde se tenga la informacion de la tabla que se encuentra en\n",
    "#http://www.russelllab.org/aas/aas.html"
   ]
  },
  {
   "cell_type": "code",
   "execution_count": 3,
   "metadata": {},
   "outputs": [],
   "source": [
    "#Utilice como \"key\" los valores de la columna \"AA\" y las otras dos columnas (Hits y %Abundance) ingrese como \"values\"\n",
    "\n",
    "dic_aminoacidos = {'Trp':                                   {0: '1550',\n",
    "                                                             1: '1.34'}, \n",
    " 'Cys':                                                     {0: '1905',\n",
    "                                                             1: '1.76'},\n",
    " 'His':                                                     {0: '1695',\n",
    "                                                             1: '2.26'},\n",
    " 'Arg':                                                     {0: '3093',\n",
    "                                                             1: '5.20'},\n",
    " 'Met':                                                     {0: '1102',\n",
    "                                                             1: '2.32'},\n",
    " 'Tyr':                                                     {0: '1525',\n",
    "                                                             1: '3.25'},\n",
    " 'Gln':                                                     {0: '1830',\n",
    "                                                             1: '3.96'},\n",
    " 'Phe':                                                     {0: '1616',\n",
    "                                                             1: '4.12'},\n",
    " 'Asp':                                                     {0: '1691',\n",
    "                                                             1: '5.12'},\n",
    " 'Pro':                                                     {0: '1598',\n",
    "                                                             1: '5.00'},\n",
    " 'Ala':                                                     {0: '2018',\n",
    "                                                             1: '7.34'},\n",
    " 'Asn':                                                     {0:'1103',\n",
    "                                                             1: '4.57'},\n",
    " 'Lys':                                                     {0:'1366',\n",
    "                                                             1:'5.81'},\n",
    " 'Glu':                                                     {0:'1471',\n",
    "                                                             1:'6.22'},\n",
    " 'Gly':                                                     {0:'1386',\n",
    "                                                             1:'6.89'},\n",
    " 'Thr':                                                     {0:'1147',\n",
    "                                                             1:'5.85'},\n",
    " 'Val':                                                     {0:'1225',\n",
    "                                                             1:'6.48'},\n",
    " 'Ile':                                                     {0:'1033',\n",
    "                                                             1:'5.76'},\n",
    " 'Ser':                                                     {0:'1206',\n",
    "                                                             1:'7.38'},\n",
    " 'Leu':                                                     {0:'1127',\n",
    "                                                             1:'9.36'}}"
   ]
  },
  {
   "cell_type": "code",
   "execution_count": 4,
   "metadata": {},
   "outputs": [
    {
     "data": {
      "text/plain": [
       "{'Trp': {0: '1550', 1: '1.34'},\n",
       " 'Cys': {0: '1905', 1: '1.76'},\n",
       " 'His': {0: '1695', 1: '2.26'},\n",
       " 'Arg': {0: '3093', 1: '5.20'},\n",
       " 'Met': {0: '1102', 1: '2.32'},\n",
       " 'Tyr': {0: '1525', 1: '3.25'},\n",
       " 'Gln': {0: '1830', 1: '3.96'},\n",
       " 'Phe': {0: '1616', 1: '4.12'},\n",
       " 'Asp': {0: '1691', 1: '5.12'},\n",
       " 'Pro': {0: '1598', 1: '5.00'},\n",
       " 'Ala': {0: '2018', 1: '7.34'},\n",
       " 'Asn': {0: '1103', 1: '4.57'},\n",
       " 'Lys': {0: '1366', 1: '5.81'},\n",
       " 'Glu': {0: '1471', 1: '6.22'},\n",
       " 'Gly': {0: '1386', 1: '6.89'},\n",
       " 'Thr': {0: '1147', 1: '5.85'},\n",
       " 'Val': {0: '1225', 1: '6.48'},\n",
       " 'Ile': {0: '1033', 1: '5.76'},\n",
       " 'Ser': {0: '1206', 1: '7.38'},\n",
       " 'Leu': {0: '1127', 1: '9.36'}}"
      ]
     },
     "execution_count": 4,
     "metadata": {},
     "output_type": "execute_result"
    }
   ],
   "source": [
    "dic_aminoacidos"
   ]
  },
  {
   "cell_type": "code",
   "execution_count": 5,
   "metadata": {},
   "outputs": [
    {
     "data": {
      "text/plain": [
       "['Trp',\n",
       " 'Cys',\n",
       " 'His',\n",
       " 'Arg',\n",
       " 'Met',\n",
       " 'Tyr',\n",
       " 'Gln',\n",
       " 'Phe',\n",
       " 'Asp',\n",
       " 'Pro',\n",
       " 'Ala',\n",
       " 'Asn',\n",
       " 'Lys',\n",
       " 'Glu',\n",
       " 'Gly',\n",
       " 'Thr',\n",
       " 'Val',\n",
       " 'Ile',\n",
       " 'Ser',\n",
       " 'Leu']"
      ]
     },
     "execution_count": 5,
     "metadata": {},
     "output_type": "execute_result"
    }
   ],
   "source": [
    "#Luego de crear el diccionario extraiga los valores de \"key\" a una lista de nombre \"aminoacidos\"\n",
    "aminoacidos = list(dic_aminoacidos.keys())\n",
    "aminoacidos"
   ]
  },
  {
   "cell_type": "code",
   "execution_count": 6,
   "metadata": {},
   "outputs": [
    {
     "data": {
      "text/plain": [
       "[{0: '1550', 1: '1.34'},\n",
       " {0: '1905', 1: '1.76'},\n",
       " {0: '1695', 1: '2.26'},\n",
       " {0: '3093', 1: '5.20'},\n",
       " {0: '1102', 1: '2.32'},\n",
       " {0: '1525', 1: '3.25'},\n",
       " {0: '1830', 1: '3.96'},\n",
       " {0: '1616', 1: '4.12'},\n",
       " {0: '1691', 1: '5.12'},\n",
       " {0: '1598', 1: '5.00'},\n",
       " {0: '2018', 1: '7.34'},\n",
       " {0: '1103', 1: '4.57'},\n",
       " {0: '1366', 1: '5.81'},\n",
       " {0: '1471', 1: '6.22'},\n",
       " {0: '1386', 1: '6.89'},\n",
       " {0: '1147', 1: '5.85'},\n",
       " {0: '1225', 1: '6.48'},\n",
       " {0: '1033', 1: '5.76'},\n",
       " {0: '1206', 1: '7.38'},\n",
       " {0: '1127', 1: '9.36'}]"
      ]
     },
     "execution_count": 6,
     "metadata": {},
     "output_type": "execute_result"
    }
   ],
   "source": [
    "#extraiga los valores de \"value\" a una lista de nombre \"propiedades\"\n",
    "propiedades = list(dic_aminoacidos.values())\n",
    "propiedades"
   ]
  }
 ],
 "metadata": {
  "interpreter": {
   "hash": "81ab309234f4a0936d752f98e79b9de7718bdfe1cca3eac2614b37b35b52223c"
  },
  "kernelspec": {
   "display_name": "Python 3.9.9 64-bit (windows store)",
   "language": "python",
   "name": "python3"
  },
  "language_info": {
   "codemirror_mode": {
    "name": "ipython",
    "version": 3
   },
   "file_extension": ".py",
   "mimetype": "text/x-python",
   "name": "python",
   "nbconvert_exporter": "python",
   "pygments_lexer": "ipython3",
   "version": "3.9.9"
  },
  "orig_nbformat": 4
 },
 "nbformat": 4,
 "nbformat_minor": 2
}
